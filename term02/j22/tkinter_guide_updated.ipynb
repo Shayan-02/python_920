{
 "cells": [
  {
   "cell_type": "markdown",
   "id": "21151a09",
   "metadata": {},
   "source": [
    "# Tkinter Library Guide\n",
    "این جزوه جامع از کتابخانه `tkinter` در پایتون است که به شما کمک می‌کند تا با مفهوم‌های مختلف این کتابخانه آشنا شوید."
   ]
  },
  {
   "cell_type": "markdown",
   "id": "ee61bf59",
   "metadata": {},
   "source": [
    "### ۱. `Entry` = اینپوت گرفتن\n",
    "برای گرفتن ورودی از کاربر استفاده می‌شود. به عنوان مثال:\n",
    "```python\n",
    "entry = Entry(window)\n",
    "entry.pack()\n",
    "```"
   ]
  },
  {
   "cell_type": "markdown",
   "id": "afd48026",
   "metadata": {},
   "source": [
    "### ۲. `bg` = بکگراند\n",
    "برای تعیین رنگ پس‌زمینه عنصر استفاده می‌شود:\n",
    "```python\n",
    "button = Button(window, text=\"Click me\", bg=\"blue\")\n",
    "```"
   ]
  },
  {
   "cell_type": "markdown",
   "id": "ee36e756",
   "metadata": {},
   "source": [
    "### ۳. `fg` = رنگ متن\n",
    "برای تعیین رنگ متن داخل ویجت‌ها مانند دکمه‌ها، برچسب‌ها، و غیره استفاده می‌شود:\n",
    "```python\n",
    "label = Label(window, text=\"Hello\", fg=\"white\")\n",
    "```"
   ]
  },
  {
   "cell_type": "markdown",
   "id": "5b05c320",
   "metadata": {},
   "source": [
    "### ۴. `Button` = دکمه\n",
    "دکمه‌ای برای انجام کاری خاص در هنگام کلیک کردن. برای مثال:\n",
    "```python\n",
    "button = Button(window, text=\"Click Me\", command=some_function)\n",
    "button.pack()\n",
    "```"
   ]
  },
  {
   "cell_type": "markdown",
   "id": "1d7d3cbd",
   "metadata": {},
   "source": [
    "### ۵. `get` = گرفتن مقدار داخل متغیر\n",
    "برای دریافت ورودی از داخل ویجت‌ها مانند `Entry` استفاده می‌شود:\n",
    "```python\n",
    "value = entry.get()\n",
    "```"
   ]
  },
  {
   "cell_type": "markdown",
   "id": "977ac446",
   "metadata": {},
   "source": [
    "### ۶. `config` = تغییر دادن\n",
    "برای تغییر ویژگی‌های ویجت‌ها به کار می‌رود، مثل تغییر متن یا رنگ:\n",
    "```python\n",
    "label.config(text=\"New Text\", fg=\"red\")\n",
    "```"
   ]
  },
  {
   "cell_type": "markdown",
   "id": "10733b88",
   "metadata": {},
   "source": [
    "### ۷. `Label` = برچسب\n",
    "برای نمایش متن ثابت یا پویا استفاده می‌شود:\n",
    "```python\n",
    "label = Label(window, text=\"Welcome to Tkinter\")\n",
    "label.pack()\n",
    "```"
   ]
  },
  {
   "cell_type": "markdown",
   "id": "0d90538d",
   "metadata": {},
   "source": [
    "### ۸. `Tk` = ساخت صفحه\n",
    "برای ساخت یک پنجره جدید در tkinter استفاده می‌شود:\n",
    "```python\n",
    "window = Tk()\n",
    "```"
   ]
  },
  {
   "cell_type": "markdown",
   "id": "90982d27",
   "metadata": {},
   "source": [
    "### ۹. `mainloop` = نگهداشتن صفحه\n",
    "این تابع برای نگه داشتن پنجره و فعال کردن رویدادهای مختلف در برنامه استفاده می‌شود:\n",
    "```python\n",
    "window.mainloop()\n",
    "```"
   ]
  },
  {
   "cell_type": "markdown",
   "id": "056387d8",
   "metadata": {},
   "source": [
    "### ۱۰. `geometry` = سایز صفحه\n",
    "برای تعیین اندازه پنجره استفاده می‌شود:\n",
    "```python\n",
    "window.geometry(\"400x300\")\n",
    "```"
   ]
  },
  {
   "cell_type": "markdown",
   "id": "87a4f284",
   "metadata": {},
   "source": [
    "### ۱۱. `resizable` = امکان تغییر اندازه صفحه\n",
    "برای تعیین این که آیا پنجره قابل تغییر اندازه است یا خیر:\n",
    "```python\n",
    "window.resizable(False, False)\n",
    "```"
   ]
  },
  {
   "cell_type": "markdown",
   "id": "9927b966",
   "metadata": {},
   "source": [
    "### ۱۲. `pack` = نمایش دادن زیر هم وسط صفحه\n",
    "این متد برای چیدمان ویجت‌ها به صورت عمودی یا افقی در پنجره استفاده می‌شود:\n",
    "```python\n",
    "label.pack()\n",
    "button.pack()\n",
    "```"
   ]
  },
  {
   "cell_type": "markdown",
   "id": "9eba7ba9",
   "metadata": {},
   "source": [
    "### ۱۳. `grid` = نمایش در سطر و ستون\n",
    "چیدمان ویجت‌ها به صورت جدول با استفاده از سطرها و ستون‌ها:\n",
    "```python\n",
    "label.grid(row=0, column=0)\n",
    "button.grid(row=1, column=1)\n",
    "```"
   ]
  },
  {
   "cell_type": "markdown",
   "id": "1a9a89bf",
   "metadata": {},
   "source": [
    "### ۱۴. `place` = نمایش دادن در مختصات خاص\n",
    "برای قرار دادن ویجت‌ها در مختصات خاص روی پنجره استفاده می‌شود:\n",
    "```python\n",
    "label.place(x=50, y=100)\n",
    "```"
   ]
  },
  {
   "cell_type": "markdown",
   "id": "0a5516c7",
   "metadata": {},
   "source": [
    "### ۱۵. `pady` = فاصله انداختن از بالا و پایین\n",
    "این ویژگی برای تنظیم فاصله عمودی میان ویجت‌ها استفاده می‌شود:\n",
    "```python\n",
    "label.pack(pady=10)\n",
    "```"
   ]
  },
  {
   "cell_type": "markdown",
   "id": "80135f71",
   "metadata": {},
   "source": [
    "### ۱۶. `padx` = فاصله انداختن از چپ و راست\n",
    "این ویژگی برای تنظیم فاصله افقی میان ویجت‌ها استفاده می‌شود:\n",
    "```python\n",
    "label.pack(padx=20)\n",
    "```"
   ]
  },
  {
   "cell_type": "markdown",
   "id": "2d82bf68",
   "metadata": {},
   "source": [
    "### ۱۷. `justify` = راست چین یا چپ چین کردن\n",
    "برای تنظیم چیدمان متن در برچسب‌ها، مثل راست‌چین یا چپ‌چین کردن استفاده می‌شود:\n",
    "```python\n",
    "label = Label(window, text=\"Text\", justify=\"right\")\n",
    "```"
   ]
  },
  {
   "cell_type": "markdown",
   "id": "9f75f8ed",
   "metadata": {},
   "source": [
    "### ۱۸. `command` = با کلیک بر روی تابع چه کاری انجام دهد\n",
    "این ویژگی به دکمه‌ها اختصاص داده می‌شود که هنگام کلیک کردن، تابع مشخصی را اجرا می‌کند:\n",
    "```python\n",
    "def on_button_click():\n",
    "    print(\"Button clicked!\")\n",
    "\n",
    "button = Button(window, text=\"Click Me\", command=on_button_click)\n",
    "```"
   ]
  },
  {
   "cell_type": "markdown",
   "id": "1a9def8b",
   "metadata": {},
   "source": [
    "### مثال کامل از یک برنامه ساده با استفاده از `tkinter`:\n",
    "```python\n",
    "from tkinter import Tk, Button, Label\n",
    "\n",
    "def on_button_click():\n",
    "    label.config(text=\"Button clicked!\")\n",
    "\n",
    "# ساخت پنجره اصلی\n",
    "window = Tk()\n",
    "window.geometry(\"400x300\")\n",
    "\n",
    "# ساخت برچسب\n",
    "label = Label(window, text=\"Welcome!\", font=(\"Arial\", 14))\n",
    "label.pack(pady=20)\n",
    "\n",
    "# ساخت دکمه\n",
    "button = Button(window, text=\"Click Me\", command=on_button_click)\n",
    "button.pack(pady=10)\n",
    "\n",
    "# نگهداشتن پنجره\n",
    "window.mainloop()\n",
    "```"
   ]
  },
  {
   "cell_type": "markdown",
   "id": "46be8823",
   "metadata": {},
   "source": [
    "### ۱۹. `messagebox` = جعبه پیام\n",
    "برای نمایش پیام‌ها در قالب پاپ‌آپ استفاده می‌شود. برای مثال:\n",
    "```python\n",
    "from tkinter import messagebox\n",
    "messagebox.showinfo(\"Info\", \"This is a message\")\n",
    "```"
   ]
  },
  {
   "cell_type": "markdown",
   "id": "ad8f5d1a",
   "metadata": {},
   "source": [
    "### ۲۰. `filedialog` = انتخاب فایل\n",
    "برای انتخاب فایل یا پوشه از سیستم استفاده می‌شود. برای مثال:\n",
    "```python\n",
    "from tkinter import filedialog\n",
    "filename = filedialog.askopenfilename()\n",
    "```"
   ]
  },
  {
   "cell_type": "markdown",
   "id": "071b274a",
   "metadata": {},
   "source": [
    "### ۲۱. `Text` = فیلد متن\n",
    "برای وارد کردن و نمایش متن چندخطی استفاده می‌شود:\n",
    "```python\n",
    "text_widget = Text(window, height=10, width=30)\n",
    "text_widget.pack()\n",
    "```"
   ]
  },
  {
   "cell_type": "markdown",
   "id": "d704c003",
   "metadata": {},
   "source": [
    "### ۲۲. `Listbox` = لیست باکس\n",
    "برای نمایش یک لیست از گزینه‌ها استفاده می‌شود:\n",
    "```python\n",
    "listbox = Listbox(window)\n",
    "listbox.pack()\n",
    "listbox.insert(END, \"Option 1\")\n",
    "```"
   ]
  },
  {
   "cell_type": "markdown",
   "id": "a88bb577",
   "metadata": {},
   "source": [
    "### ۲۳. `Checkbutton` = چک باکس\n",
    "برای انتخاب یا عدم انتخاب یک گزینه از چک باکس استفاده می‌شود:\n",
    "```python\n",
    "checkbutton = Checkbutton(window, text=\"Check me\")\n",
    "checkbutton.pack()\n",
    "```"
   ]
  },
  {
   "cell_type": "markdown",
   "id": "3f0c56ea",
   "metadata": {},
   "source": [
    "### ۲۴. `Radiobutton` = رادیو باتن\n",
    "برای انتخاب یک گزینه از بین چندین گزینه استفاده می‌شود:\n",
    "```python\n",
    "radiobutton = Radiobutton(window, text=\"Option 1\", value=1)\n",
    "radiobutton.pack()\n",
    "```"
   ]
  }
 ],
 "metadata": {},
 "nbformat": 4,
 "nbformat_minor": 5
}
