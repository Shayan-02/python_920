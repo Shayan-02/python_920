{
 "cells": [
  {
   "cell_type": "code",
   "execution_count": 29,
   "metadata": {},
   "outputs": [],
   "source": [
    "from random import *"
   ]
  },
  {
   "cell_type": "code",
   "execution_count": 30,
   "metadata": {},
   "outputs": [
    {
     "data": {
      "text/plain": [
       "12"
      ]
     },
     "execution_count": 30,
     "metadata": {},
     "output_type": "execute_result"
    }
   ],
   "source": [
    "start = int(input())\n",
    "end = int(input())\n",
    "a = randint(start, end)\n",
    "a"
   ]
  },
  {
   "cell_type": "code",
   "execution_count": 31,
   "metadata": {},
   "outputs": [
    {
     "data": {
      "text/plain": [
       "'sang'"
      ]
     },
     "execution_count": 31,
     "metadata": {},
     "output_type": "execute_result"
    }
   ],
   "source": [
    "halatha = [\"sang\", \"kaghaz\", \"gheichi\"]\n",
    "b = choice(halatha)\n",
    "b"
   ]
  },
  {
   "cell_type": "code",
   "execution_count": 34,
   "metadata": {},
   "outputs": [
    {
     "name": "stdout",
     "output_type": "stream",
     "text": [
      "درست انتخاب کن\n"
     ]
    }
   ],
   "source": [
    "halatha = [\"سنگ\", \"کاغذ\", \"قیچی\"]\n",
    "\n",
    "c_choice = choice(halatha)\n",
    "\n",
    "u_choice = input(\"انتخاب کنید: \")\n",
    "\n",
    "if u_choice in halatha:\n",
    "    if u_choice == c_choice:\n",
    "        print(\"مساوی\")\n",
    "    elif u_choice == halatha[0]:\n",
    "        if c_choice == halatha[1]:\n",
    "            print(\"باختی\")\n",
    "        else:\n",
    "            print(\"بردی\")\n",
    "    elif u_choice == halatha[1]:\n",
    "        if c_choice == halatha[0]:\n",
    "            print(\"بردی\")\n",
    "        else:\n",
    "            print(\"باختی\")\n",
    "    elif u_choice == halatha[2]:\n",
    "        if c_choice == halatha[0]:\n",
    "            print(\"باختی\")\n",
    "        else:\n",
    "            print(\"بردی\")\n",
    "else:\n",
    "    print(\"درست انتخاب کن\")"
   ]
  }
 ],
 "metadata": {
  "kernelspec": {
   "display_name": "Python 3",
   "language": "python",
   "name": "python3"
  },
  "language_info": {
   "codemirror_mode": {
    "name": "ipython",
    "version": 3
   },
   "file_extension": ".py",
   "mimetype": "text/x-python",
   "name": "python",
   "nbconvert_exporter": "python",
   "pygments_lexer": "ipython3",
   "version": "3.13.1"
  }
 },
 "nbformat": 4,
 "nbformat_minor": 2
}
